{
  "nbformat": 4,
  "nbformat_minor": 0,
  "metadata": {
    "colab": {
      "name": "Web Scraping with Python- Carol wanza",
      "provenance": [],
      "collapsed_sections": [],
      "toc_visible": true
    },
    "kernelspec": {
      "name": "python3",
      "display_name": "Python 3"
    }
  },
  "cells": [
    {
      "cell_type": "markdown",
      "metadata": {
        "id": "7i5A-UY4Yruf"
      },
      "source": [
        "<font color='#2F4F4F'>To use this notebook on Colaboratory, you will need to make a copy of it. Go to File > Save a Copy in Drive. You can then use the new copy that will appear in the new tab.</font>\n"
      ]
    },
    {
      "cell_type": "markdown",
      "metadata": {
        "id": "0rOdcI2Nzhky"
      },
      "source": [
        "# <font color='#2F4F4F'>AfterWork Data Science: Web Scraping with Python</font>"
      ]
    },
    {
      "cell_type": "markdown",
      "metadata": {
        "id": "Tcso2rJCNAGq"
      },
      "source": [
        "## <font color='#2F4F4F'>Prerequisites</font>"
      ]
    },
    {
      "cell_type": "code",
      "metadata": {
        "id": "QSHljMZTNCRI"
      },
      "source": [
        "# We first import the required libraries\n",
        "# ---\n",
        "#\n",
        "import pandas as pd             # library for data manupation\n",
        "import requests                 # library for fetching a web page \n",
        "from bs4 import BeautifulSoup   # library for extrating contents from a webpage "
      ],
      "execution_count": 1,
      "outputs": []
    },
    {
      "cell_type": "markdown",
      "metadata": {
        "id": "CRmt1rRHgZRG"
      },
      "source": [
        "## <font color='#2F4F4F'>Step 1: Obtaining our Data</font>"
      ]
    },
    {
      "cell_type": "code",
      "metadata": {
        "id": "cM5TKD-P1h7Z",
        "colab": {
          "base_uri": "https://localhost:8080/"
        },
        "outputId": "95810a40-4780-42c0-a8d5-786696cd2c08"
      },
      "source": [
        "# PigiaMe: https://www.pigiame.co.ke/it-software-jobs\n",
        "# ---\n",
        "#\n",
        "pigia_me = requests.get('https://www.pigiame.co.ke/it-software-jobs')\n",
        "pigia_me"
      ],
      "execution_count": 8,
      "outputs": [
        {
          "output_type": "execute_result",
          "data": {
            "text/plain": [
              "<Response [200]>"
            ]
          },
          "metadata": {},
          "execution_count": 8
        }
      ]
    },
    {
      "cell_type": "code",
      "metadata": {
        "id": "OfUvfxrD1nQC",
        "colab": {
          "base_uri": "https://localhost:8080/"
        },
        "outputId": "87e24380-2646-407f-853f-dfc1e8a87155"
      },
      "source": [
        "# MyJobMag: https://www.myjobmag.co.ke/jobs-by-field/information-technology\n",
        "# ---\n",
        "#\n",
        "MyJobMag = requests.get('https://www.myjobmag.co.ke/jobs-by-field/information-technology')\n",
        "MyJobMag"
      ],
      "execution_count": 40,
      "outputs": [
        {
          "output_type": "execute_result",
          "data": {
            "text/plain": [
              "<Response [200]>"
            ]
          },
          "metadata": {},
          "execution_count": 40
        }
      ]
    },
    {
      "cell_type": "code",
      "metadata": {
        "id": "psWrYhRUQDJC",
        "colab": {
          "base_uri": "https://localhost:8080/"
        },
        "outputId": "8b77aa62-e624-498c-95ac-63cd1d3c9193"
      },
      "source": [
        "# KenyanJob: https://www.kenyajob.com/job-vacancies-search-kenya?f%5B0%5D=im_field_offre_secteur%3A133\n",
        "# ---\n",
        "#\n",
        "\n",
        "KenyanJob = requests.get('https://www.kenyajob.com/job-vacancies-search-kenya?f%5B0%5D=im_field_offre_secteur%3A133')\n",
        "KenyanJob"
      ],
      "execution_count": 10,
      "outputs": [
        {
          "output_type": "execute_result",
          "data": {
            "text/plain": [
              "<Response [200]>"
            ]
          },
          "metadata": {},
          "execution_count": 10
        }
      ]
    },
    {
      "cell_type": "code",
      "source": [
        ""
      ],
      "metadata": {
        "id": "EjTKtWHvZft5"
      },
      "execution_count": null,
      "outputs": []
    },
    {
      "cell_type": "markdown",
      "metadata": {
        "id": "h7iRb8U8hHNw"
      },
      "source": [
        "## <font color='#2F4F4F'>Step 2: Parsing</font>"
      ]
    },
    {
      "cell_type": "code",
      "metadata": {
        "id": "AXWSK1kD2oeN"
      },
      "source": [
        "# Parsing our document: pigia_me\n",
        "# ---\n",
        "# \n",
        "pigia_me_soup = BeautifulSoup(pigia_me.content, \"html.parser\")"
      ],
      "execution_count": 46,
      "outputs": []
    },
    {
      "cell_type": "code",
      "metadata": {
        "id": "lrH9mgR82pzg"
      },
      "source": [
        "# Parsing our document: my_job_mag\n",
        "# ---\n",
        "#  \n",
        "my_job_mag_soup = BeautifulSoup(MyJobMag.content, \"html.parser\")"
      ],
      "execution_count": 47,
      "outputs": []
    },
    {
      "cell_type": "code",
      "metadata": {
        "id": "O0x-Wz03QP5O"
      },
      "source": [
        "# Parsing our document: kenyan_job\n",
        "# ---\n",
        "# \n",
        "KenyanJob_soup = BeautifulSoup(KenyanJob.content, \"html.parser\")"
      ],
      "execution_count": 48,
      "outputs": []
    },
    {
      "cell_type": "markdown",
      "metadata": {
        "id": "_OxuOAIXhPl5"
      },
      "source": [
        "## <font color='#2F4F4F'>Step 3: Extracting Required Elements</font>"
      ]
    },
    {
      "cell_type": "code",
      "metadata": {
        "id": "e2p147_LICKn",
        "colab": {
          "base_uri": "https://localhost:8080/"
        },
        "outputId": "e8984e6d-85b8-44d2-d24e-9d230b31eca5"
      },
      "source": [
        "# 1. Extracting job titles and links: pigia me\n",
        "# ---\n",
        "# \n",
        "#extract data\n",
        "\n",
        "pigia_me_titles1 = pigia_me_soup.find_all(class_='listing-card__header__title')\n",
        "pigia_me_titles1\n",
        "\n",
        "# Stripping all the surrounding whitespace\n",
        "\n",
        "pigia_me_data = [tag.get_text().strip() for tag in pigia_me_titles1]\n",
        "pigia_me_data\n"
      ],
      "execution_count": 75,
      "outputs": [
        {
          "output_type": "execute_result",
          "data": {
            "text/plain": [
              "['Business Analyst',\n",
              " 'Business Analyst',\n",
              " 'FULLSTACK DEVELOPER - Python Django / VueJS',\n",
              " 'Software Developer (Donor Project)',\n",
              " 'Assistant Manager – Data Engineering',\n",
              " 'Supervisor – Full Stack Developer',\n",
              " 'Assistant Manager – UI/UX Engineer',\n",
              " 'Assistant Manager, Full Stack Developer',\n",
              " 'Assistant Manager – Solutions Architecture',\n",
              " 'Assistant Manager- SAP ABAP Developer']"
            ]
          },
          "metadata": {},
          "execution_count": 75
        }
      ]
    },
    {
      "cell_type": "code",
      "metadata": {
        "id": "NNLbrng_3QfA",
        "colab": {
          "base_uri": "https://localhost:8080/"
        },
        "outputId": "73fb470d-0ff3-4bba-d2b4-35171b853d83"
      },
      "source": [
        "# 2. Extracting job titles: my_job_mag\n",
        "# ---\n",
        "# mag-b'\n",
        "my_job_mag2 = my_job_mag_soup.find_all('h2')\n",
        "my_job_mag2"
      ],
      "execution_count": 77,
      "outputs": [
        {
          "output_type": "execute_result",
          "data": {
            "text/plain": [
              "[<h2><a href=\"/job/alumni-and-networking-coordinator-mpesa-foundation-academy\">Alumni and Networking Coordinator at Mpesa Foundation Academy</a></h2>,\n",
              " <h2><a href=\"/job/flutter-application-developer-livecode-technologies-limited\">Flutter Application Developer at Livecode Technologies Limited</a></h2>,\n",
              " <h2><a href=\"/job/senior-technical-manager-devops-palladium-international\">Senior Technical Manager, DevOps at Palladium International</a></h2>,\n",
              " <h2><a href=\"/job/junior-ux-ui-designer-africa-digital-media-institute-admi\">Junior UX/UI Designer at Africa Digital Media Institute (ADMI)</a></h2>,\n",
              " <h2><a href=\"/job/information-technology-i-t-intern-deloitte-consulting\">Information Technology (I.T) Intern at Deloitte Consulting</a></h2>,\n",
              " <h2><a href=\"/job/ict-technician-mount-kenya-university\">ICT Technician at Mount Kenya University</a></h2>,\n",
              " <h2><a href=\"/job/product-owner-lipa-later\">Product Owner at Lipa Later</a></h2>,\n",
              " <h2><a href=\"/job/director-information-communication-and-technology-nyeri-county\">Director, Information, Communication And Technology at Nyeri County</a></h2>,\n",
              " <h2><a href=\"/job/network-monitoring-engineer-jamii-telecommunications\">Network Monitoring Engineer at Jamii Telecommunications</a></h2>,\n",
              " <h2><a href=\"/job/mobile-core-network-engineer-jamii-telecommunications\">Mobile Core Network Engineer at Jamii Telecommunications</a></h2>,\n",
              " <h2><a href=\"/job/asp-net-core-programmer-hanmak-technologies-ltd\">ASP.Net Core Programmer at Hanmak Technologies Ltd</a></h2>,\n",
              " <h2><a href=\"/job/it-customer-support-intern-hanmak-technologies-ltd\">IT Customer Support Intern at Hanmak Technologies Ltd</a></h2>,\n",
              " <h2><a href=\"/job/strategic-information-specialist-the-center-for-international-health-education-and-biosecurity-ciheb\">Strategic Information Specialist at The Center for International Health, Education and Biosecurity (CIHEB)</a></h2>,\n",
              " <h2><a href=\"/job/strategic-information-advisor-the-center-for-international-health-education-and-biosecurity-ciheb-1\">Strategic Information Advisor at The Center for International Health, Education and Biosecurity (CIHEB)</a></h2>,\n",
              " <h2><a href=\"/job/technical-product-manager-datagroupit\">Technical Product Manager at DataGroupIT</a></h2>,\n",
              " <h2><a href=\"/job/system-training-assistant-calltronix-contact-training-centre\">System Training Assistant at Calltronix Contact &amp; Training Centre</a></h2>,\n",
              " <h2><a href=\"/job/web-application-developer-medbook-kenya-limited\">Web Application Developer at Medbook Kenya Limited</a></h2>,\n",
              " <h2><a href=\"/job/database-administrator-dubai-islamic-bank-1\">Database Administrator at DIB Bank Kenya Limited (DIBBKE)</a></h2>,\n",
              " <h2 class=\"main-h2\">Subscribe to Job Alert</h2>,\n",
              " <h2>Career Advice</h2>,\n",
              " <h2 class=\"main-h2\">Subscribe to Job Alert</h2>,\n",
              " <h2 class=\"ts-20\">Job Vacancies in ICT / Computer</h2>]"
            ]
          },
          "metadata": {},
          "execution_count": 77
        }
      ]
    },
    {
      "cell_type": "code",
      "metadata": {
        "id": "I0fQKn63QV0R",
        "colab": {
          "base_uri": "https://localhost:8080/"
        },
        "outputId": "9e18d2cb-2092-4742-fbaf-dd40fc64351d"
      },
      "source": [
        "# 3. Extracting job titles: kenya_job\n",
        "# ---\n",
        "#\n",
        "\n",
        "KenyanJob_soup2 = KenyanJob_soup.find_all('h5')\n",
        "KenyanJob_soup2"
      ],
      "execution_count": 72,
      "outputs": [
        {
          "output_type": "execute_result",
          "data": {
            "text/plain": [
              "[<h5><a href=\"/job-vacancies-kenya/mid-frontend-developer-react-js-94638\">Mid Frontend Developer (React JS)</a></h5>,\n",
              " <h5><a href=\"/job-vacancies-kenya/mid-level-backend-developer-java-94639\">Mid Level Backend Developer (Java)</a></h5>,\n",
              " <h5><a href=\"/job-vacancies-kenya/mid-level-backend-developer-net-94643\">Mid Level Backend Developer (.NET)</a></h5>,\n",
              " <h5><a href=\"/job-vacancies-kenya/mid-level-front-end-developer-angular-94645\">Mid Level Front End Developer (Angular)</a></h5>,\n",
              " <h5><a href=\"/job-vacancies-kenya/mid-level-ios-developer-94646\">Mid Level IOS Developer</a></h5>,\n",
              " <h5><a href=\"/job-vacancies-kenya/senior-test-analyst-94647\">Senior Test Analyst</a></h5>,\n",
              " <h5><a href=\"/job-vacancies-kenya/senior-test-analyst-94648\">Senior Test Analyst</a></h5>,\n",
              " <h5><a href=\"/job-vacancies-kenya/payments-head-support-94649\">Payments Head of Support</a></h5>,\n",
              " <h5><a href=\"/job-vacancies-kenya/mid-level-finacle-developer-94650\">Mid Level Finacle Developer</a></h5>,\n",
              " <h5><a href=\"/job-vacancies-kenya/internet-analyst-english-speakers-kenya-94467\">Internet Analyst for English Speakers in Kenya</a></h5>,\n",
              " <h5><a href=\"/job-vacancies-kenya/emea-hr-manager-94544\">EMEA HR Manager</a></h5>,\n",
              " <h5><a href=\"/job-vacancies-kenya/area-sales-manager-94525\">Area Sales Manager</a></h5>,\n",
              " <h5><a href=\"/job-vacancies-kenya/senior-customer-success-operations-analyst-customer-programs-us-only-94526\">Senior Customer Success Operations Analyst - Customer Programs-US Only</a></h5>,\n",
              " <h5><a href=\"/job-vacancies-kenya/senior-backend-engineer-manage-import-94528\">Senior Backend Engineer, Manage: Import</a></h5>,\n",
              " <h5><a href=\"/job-vacancies-kenya/senior-frontend-engineer-release-94541\">Senior Frontend Engineer, Release</a></h5>,\n",
              " <h5><a href=\"/job-vacancies-kenya/senior-customer-success-operations-analyst-product-usage-data-94543\">Senior Customer Success Operations Analyst-Product Usage Data</a></h5>,\n",
              " <h5><a href=\"/job-vacancies-kenya/senior-backend-engineer-growth-experimentation-94545\">Senior Backend Engineer, Growth: Experimentation</a></h5>,\n",
              " <h5><a href=\"/job-vacancies-kenya/seniorstaff-fullstack-engineer-product-analytics-94547\">Senior/Staff Fullstack Engineer: Product Analytics</a></h5>,\n",
              " <h5><a href=\"/job-vacancies-kenya/senior-backend-engineer-manage-compliance-94549\">Senior Backend Engineer, Manage: Compliance</a></h5>,\n",
              " <h5><a href=\"/job-vacancies-kenya/senior-backend-engineer-product-intelligence-94551\">Senior Backend Engineer, Product Intelligence</a></h5>,\n",
              " <h5><a href=\"/job-vacancies-kenya/backend-engineer-verify-pipeline-authoring-94552\">Backend Engineer, Verify: Pipeline Authoring</a></h5>,\n",
              " <h5><a href=\"/job-vacancies-kenya/backend-engineer-enablement-sharding-group-94553\">Backend Engineer, Enablement: Sharding Group</a></h5>,\n",
              " <h5><a href=\"/job-vacancies-kenya/associate-sales-development-representative-amer-94406\">Associate Sales Development Representative (AMER)</a></h5>,\n",
              " <h5><a href=\"/job-vacancies-kenya/sales-development-representative-emea-bilingual-spanish-ital-94408\">Sales Development Representative, EMEA - Bilingual in Spanish and Ital</a></h5>,\n",
              " <h5><a href=\"/job-vacancies-kenya/associate-sales-development-representative-german-french-speaker-94410\">Associate Sales Development Representative - German or French Speaker </a></h5>]"
            ]
          },
          "metadata": {},
          "execution_count": 72
        }
      ]
    },
    {
      "cell_type": "markdown",
      "metadata": {
        "id": "7ePXABAihaKn"
      },
      "source": [
        "## <font color='#2F4F4F'>Step 4: Saving our Data</font>"
      ]
    },
    {
      "cell_type": "code",
      "metadata": {
        "id": "fsG9pQXk5f8y",
        "colab": {
          "base_uri": "https://localhost:8080/",
          "height": 206
        },
        "outputId": "215ab102-b9c7-4f11-ac1c-f2c6f4ed9ee0"
      },
      "source": [
        "# Saving the scraped contents in a dataframe and preview our data\n",
        "# ---\n",
        "#\n",
        "\n",
        "#saving pigia_me_data\n",
        "\n",
        "pigia_me_data1 = pd.DataFrame({\"title\": pigia_me_data})\n",
        "\n",
        "pigia_me_data1.head()\n"
      ],
      "execution_count": 76,
      "outputs": [
        {
          "output_type": "execute_result",
          "data": {
            "text/html": [
              "\n",
              "  <div id=\"df-96876c1a-512b-458a-928d-adfb9b968a5f\">\n",
              "    <div class=\"colab-df-container\">\n",
              "      <div>\n",
              "<style scoped>\n",
              "    .dataframe tbody tr th:only-of-type {\n",
              "        vertical-align: middle;\n",
              "    }\n",
              "\n",
              "    .dataframe tbody tr th {\n",
              "        vertical-align: top;\n",
              "    }\n",
              "\n",
              "    .dataframe thead th {\n",
              "        text-align: right;\n",
              "    }\n",
              "</style>\n",
              "<table border=\"1\" class=\"dataframe\">\n",
              "  <thead>\n",
              "    <tr style=\"text-align: right;\">\n",
              "      <th></th>\n",
              "      <th>title</th>\n",
              "    </tr>\n",
              "  </thead>\n",
              "  <tbody>\n",
              "    <tr>\n",
              "      <th>0</th>\n",
              "      <td>Business Analyst</td>\n",
              "    </tr>\n",
              "    <tr>\n",
              "      <th>1</th>\n",
              "      <td>Business Analyst</td>\n",
              "    </tr>\n",
              "    <tr>\n",
              "      <th>2</th>\n",
              "      <td>FULLSTACK DEVELOPER - Python Django / VueJS</td>\n",
              "    </tr>\n",
              "    <tr>\n",
              "      <th>3</th>\n",
              "      <td>Software Developer (Donor Project)</td>\n",
              "    </tr>\n",
              "    <tr>\n",
              "      <th>4</th>\n",
              "      <td>Assistant Manager – Data Engineering</td>\n",
              "    </tr>\n",
              "  </tbody>\n",
              "</table>\n",
              "</div>\n",
              "      <button class=\"colab-df-convert\" onclick=\"convertToInteractive('df-96876c1a-512b-458a-928d-adfb9b968a5f')\"\n",
              "              title=\"Convert this dataframe to an interactive table.\"\n",
              "              style=\"display:none;\">\n",
              "        \n",
              "  <svg xmlns=\"http://www.w3.org/2000/svg\" height=\"24px\"viewBox=\"0 0 24 24\"\n",
              "       width=\"24px\">\n",
              "    <path d=\"M0 0h24v24H0V0z\" fill=\"none\"/>\n",
              "    <path d=\"M18.56 5.44l.94 2.06.94-2.06 2.06-.94-2.06-.94-.94-2.06-.94 2.06-2.06.94zm-11 1L8.5 8.5l.94-2.06 2.06-.94-2.06-.94L8.5 2.5l-.94 2.06-2.06.94zm10 10l.94 2.06.94-2.06 2.06-.94-2.06-.94-.94-2.06-.94 2.06-2.06.94z\"/><path d=\"M17.41 7.96l-1.37-1.37c-.4-.4-.92-.59-1.43-.59-.52 0-1.04.2-1.43.59L10.3 9.45l-7.72 7.72c-.78.78-.78 2.05 0 2.83L4 21.41c.39.39.9.59 1.41.59.51 0 1.02-.2 1.41-.59l7.78-7.78 2.81-2.81c.8-.78.8-2.07 0-2.86zM5.41 20L4 18.59l7.72-7.72 1.47 1.35L5.41 20z\"/>\n",
              "  </svg>\n",
              "      </button>\n",
              "      \n",
              "  <style>\n",
              "    .colab-df-container {\n",
              "      display:flex;\n",
              "      flex-wrap:wrap;\n",
              "      gap: 12px;\n",
              "    }\n",
              "\n",
              "    .colab-df-convert {\n",
              "      background-color: #E8F0FE;\n",
              "      border: none;\n",
              "      border-radius: 50%;\n",
              "      cursor: pointer;\n",
              "      display: none;\n",
              "      fill: #1967D2;\n",
              "      height: 32px;\n",
              "      padding: 0 0 0 0;\n",
              "      width: 32px;\n",
              "    }\n",
              "\n",
              "    .colab-df-convert:hover {\n",
              "      background-color: #E2EBFA;\n",
              "      box-shadow: 0px 1px 2px rgba(60, 64, 67, 0.3), 0px 1px 3px 1px rgba(60, 64, 67, 0.15);\n",
              "      fill: #174EA6;\n",
              "    }\n",
              "\n",
              "    [theme=dark] .colab-df-convert {\n",
              "      background-color: #3B4455;\n",
              "      fill: #D2E3FC;\n",
              "    }\n",
              "\n",
              "    [theme=dark] .colab-df-convert:hover {\n",
              "      background-color: #434B5C;\n",
              "      box-shadow: 0px 1px 3px 1px rgba(0, 0, 0, 0.15);\n",
              "      filter: drop-shadow(0px 1px 2px rgba(0, 0, 0, 0.3));\n",
              "      fill: #FFFFFF;\n",
              "    }\n",
              "  </style>\n",
              "\n",
              "      <script>\n",
              "        const buttonEl =\n",
              "          document.querySelector('#df-96876c1a-512b-458a-928d-adfb9b968a5f button.colab-df-convert');\n",
              "        buttonEl.style.display =\n",
              "          google.colab.kernel.accessAllowed ? 'block' : 'none';\n",
              "\n",
              "        async function convertToInteractive(key) {\n",
              "          const element = document.querySelector('#df-96876c1a-512b-458a-928d-adfb9b968a5f');\n",
              "          const dataTable =\n",
              "            await google.colab.kernel.invokeFunction('convertToInteractive',\n",
              "                                                     [key], {});\n",
              "          if (!dataTable) return;\n",
              "\n",
              "          const docLinkHtml = 'Like what you see? Visit the ' +\n",
              "            '<a target=\"_blank\" href=https://colab.research.google.com/notebooks/data_table.ipynb>data table notebook</a>'\n",
              "            + ' to learn more about interactive tables.';\n",
              "          element.innerHTML = '';\n",
              "          dataTable['output_type'] = 'display_data';\n",
              "          await google.colab.output.renderOutput(dataTable, element);\n",
              "          const docLink = document.createElement('div');\n",
              "          docLink.innerHTML = docLinkHtml;\n",
              "          element.appendChild(docLink);\n",
              "        }\n",
              "      </script>\n",
              "    </div>\n",
              "  </div>\n",
              "  "
            ],
            "text/plain": [
              "                                         title\n",
              "0                             Business Analyst\n",
              "1                             Business Analyst\n",
              "2  FULLSTACK DEVELOPER - Python Django / VueJS\n",
              "3           Software Developer (Donor Project)\n",
              "4         Assistant Manager – Data Engineering"
            ]
          },
          "metadata": {},
          "execution_count": 76
        }
      ]
    },
    {
      "cell_type": "code",
      "source": [
        "# Saving the scraped contents in a dataframe and preview our data\n",
        "# ---\n",
        "#\n",
        "\n",
        "#saving my_job_mag\n",
        "\n",
        "my_job_mag_data = pd.DataFrame({\"job_titles\": my_job_mag2})\n",
        "\n",
        "my_job_mag_data.head(5)\n"
      ],
      "metadata": {
        "colab": {
          "base_uri": "https://localhost:8080/",
          "height": 206
        },
        "id": "ePMox8XHdq7z",
        "outputId": "66ed43ac-870a-4096-c316-95887e879427"
      },
      "execution_count": 80,
      "outputs": [
        {
          "output_type": "execute_result",
          "data": {
            "text/html": [
              "\n",
              "  <div id=\"df-b322b7a1-d149-4450-8322-123f0e18bc9e\">\n",
              "    <div class=\"colab-df-container\">\n",
              "      <div>\n",
              "<style scoped>\n",
              "    .dataframe tbody tr th:only-of-type {\n",
              "        vertical-align: middle;\n",
              "    }\n",
              "\n",
              "    .dataframe tbody tr th {\n",
              "        vertical-align: top;\n",
              "    }\n",
              "\n",
              "    .dataframe thead th {\n",
              "        text-align: right;\n",
              "    }\n",
              "</style>\n",
              "<table border=\"1\" class=\"dataframe\">\n",
              "  <thead>\n",
              "    <tr style=\"text-align: right;\">\n",
              "      <th></th>\n",
              "      <th>job_titles</th>\n",
              "    </tr>\n",
              "  </thead>\n",
              "  <tbody>\n",
              "    <tr>\n",
              "      <th>0</th>\n",
              "      <td>[[Alumni and Networking Coordinator at Mpesa F...</td>\n",
              "    </tr>\n",
              "    <tr>\n",
              "      <th>1</th>\n",
              "      <td>[[Flutter Application Developer at Livecode Te...</td>\n",
              "    </tr>\n",
              "    <tr>\n",
              "      <th>2</th>\n",
              "      <td>[[Senior Technical Manager, DevOps at Palladiu...</td>\n",
              "    </tr>\n",
              "    <tr>\n",
              "      <th>3</th>\n",
              "      <td>[[Junior UX/UI Designer at Africa Digital Medi...</td>\n",
              "    </tr>\n",
              "    <tr>\n",
              "      <th>4</th>\n",
              "      <td>[[Information Technology (I.T) Intern at Deloi...</td>\n",
              "    </tr>\n",
              "  </tbody>\n",
              "</table>\n",
              "</div>\n",
              "      <button class=\"colab-df-convert\" onclick=\"convertToInteractive('df-b322b7a1-d149-4450-8322-123f0e18bc9e')\"\n",
              "              title=\"Convert this dataframe to an interactive table.\"\n",
              "              style=\"display:none;\">\n",
              "        \n",
              "  <svg xmlns=\"http://www.w3.org/2000/svg\" height=\"24px\"viewBox=\"0 0 24 24\"\n",
              "       width=\"24px\">\n",
              "    <path d=\"M0 0h24v24H0V0z\" fill=\"none\"/>\n",
              "    <path d=\"M18.56 5.44l.94 2.06.94-2.06 2.06-.94-2.06-.94-.94-2.06-.94 2.06-2.06.94zm-11 1L8.5 8.5l.94-2.06 2.06-.94-2.06-.94L8.5 2.5l-.94 2.06-2.06.94zm10 10l.94 2.06.94-2.06 2.06-.94-2.06-.94-.94-2.06-.94 2.06-2.06.94z\"/><path d=\"M17.41 7.96l-1.37-1.37c-.4-.4-.92-.59-1.43-.59-.52 0-1.04.2-1.43.59L10.3 9.45l-7.72 7.72c-.78.78-.78 2.05 0 2.83L4 21.41c.39.39.9.59 1.41.59.51 0 1.02-.2 1.41-.59l7.78-7.78 2.81-2.81c.8-.78.8-2.07 0-2.86zM5.41 20L4 18.59l7.72-7.72 1.47 1.35L5.41 20z\"/>\n",
              "  </svg>\n",
              "      </button>\n",
              "      \n",
              "  <style>\n",
              "    .colab-df-container {\n",
              "      display:flex;\n",
              "      flex-wrap:wrap;\n",
              "      gap: 12px;\n",
              "    }\n",
              "\n",
              "    .colab-df-convert {\n",
              "      background-color: #E8F0FE;\n",
              "      border: none;\n",
              "      border-radius: 50%;\n",
              "      cursor: pointer;\n",
              "      display: none;\n",
              "      fill: #1967D2;\n",
              "      height: 32px;\n",
              "      padding: 0 0 0 0;\n",
              "      width: 32px;\n",
              "    }\n",
              "\n",
              "    .colab-df-convert:hover {\n",
              "      background-color: #E2EBFA;\n",
              "      box-shadow: 0px 1px 2px rgba(60, 64, 67, 0.3), 0px 1px 3px 1px rgba(60, 64, 67, 0.15);\n",
              "      fill: #174EA6;\n",
              "    }\n",
              "\n",
              "    [theme=dark] .colab-df-convert {\n",
              "      background-color: #3B4455;\n",
              "      fill: #D2E3FC;\n",
              "    }\n",
              "\n",
              "    [theme=dark] .colab-df-convert:hover {\n",
              "      background-color: #434B5C;\n",
              "      box-shadow: 0px 1px 3px 1px rgba(0, 0, 0, 0.15);\n",
              "      filter: drop-shadow(0px 1px 2px rgba(0, 0, 0, 0.3));\n",
              "      fill: #FFFFFF;\n",
              "    }\n",
              "  </style>\n",
              "\n",
              "      <script>\n",
              "        const buttonEl =\n",
              "          document.querySelector('#df-b322b7a1-d149-4450-8322-123f0e18bc9e button.colab-df-convert');\n",
              "        buttonEl.style.display =\n",
              "          google.colab.kernel.accessAllowed ? 'block' : 'none';\n",
              "\n",
              "        async function convertToInteractive(key) {\n",
              "          const element = document.querySelector('#df-b322b7a1-d149-4450-8322-123f0e18bc9e');\n",
              "          const dataTable =\n",
              "            await google.colab.kernel.invokeFunction('convertToInteractive',\n",
              "                                                     [key], {});\n",
              "          if (!dataTable) return;\n",
              "\n",
              "          const docLinkHtml = 'Like what you see? Visit the ' +\n",
              "            '<a target=\"_blank\" href=https://colab.research.google.com/notebooks/data_table.ipynb>data table notebook</a>'\n",
              "            + ' to learn more about interactive tables.';\n",
              "          element.innerHTML = '';\n",
              "          dataTable['output_type'] = 'display_data';\n",
              "          await google.colab.output.renderOutput(dataTable, element);\n",
              "          const docLink = document.createElement('div');\n",
              "          docLink.innerHTML = docLinkHtml;\n",
              "          element.appendChild(docLink);\n",
              "        }\n",
              "      </script>\n",
              "    </div>\n",
              "  </div>\n",
              "  "
            ],
            "text/plain": [
              "                                          job_titles\n",
              "0  [[Alumni and Networking Coordinator at Mpesa F...\n",
              "1  [[Flutter Application Developer at Livecode Te...\n",
              "2  [[Senior Technical Manager, DevOps at Palladiu...\n",
              "3  [[Junior UX/UI Designer at Africa Digital Medi...\n",
              "4  [[Information Technology (I.T) Intern at Deloi..."
            ]
          },
          "metadata": {},
          "execution_count": 80
        }
      ]
    },
    {
      "cell_type": "code",
      "source": [
        "# Saving the scraped contents in a dataframe and preview our data\n",
        "# ---\n",
        "#\n",
        "\n",
        "#saving my_job_mag\n",
        "\n",
        "KenyanJob_soup_data = pd.DataFrame({\"job_titles\": KenyanJob_soup2})\n",
        "\n",
        "KenyanJob_soup_data.head(5)"
      ],
      "metadata": {
        "colab": {
          "base_uri": "https://localhost:8080/",
          "height": 206
        },
        "id": "OBEMH7fSeTO6",
        "outputId": "a76e4e42-2b11-452d-c634-fc11b2eb4b0c"
      },
      "execution_count": 81,
      "outputs": [
        {
          "output_type": "execute_result",
          "data": {
            "text/html": [
              "\n",
              "  <div id=\"df-42d3b93d-0f4d-4df8-a77a-b9ba156ec7b9\">\n",
              "    <div class=\"colab-df-container\">\n",
              "      <div>\n",
              "<style scoped>\n",
              "    .dataframe tbody tr th:only-of-type {\n",
              "        vertical-align: middle;\n",
              "    }\n",
              "\n",
              "    .dataframe tbody tr th {\n",
              "        vertical-align: top;\n",
              "    }\n",
              "\n",
              "    .dataframe thead th {\n",
              "        text-align: right;\n",
              "    }\n",
              "</style>\n",
              "<table border=\"1\" class=\"dataframe\">\n",
              "  <thead>\n",
              "    <tr style=\"text-align: right;\">\n",
              "      <th></th>\n",
              "      <th>job_titles</th>\n",
              "    </tr>\n",
              "  </thead>\n",
              "  <tbody>\n",
              "    <tr>\n",
              "      <th>0</th>\n",
              "      <td>[[Mid Frontend Developer (React JS)]]</td>\n",
              "    </tr>\n",
              "    <tr>\n",
              "      <th>1</th>\n",
              "      <td>[[Mid Level Backend Developer (Java)]]</td>\n",
              "    </tr>\n",
              "    <tr>\n",
              "      <th>2</th>\n",
              "      <td>[[Mid Level Backend Developer (.NET)]]</td>\n",
              "    </tr>\n",
              "    <tr>\n",
              "      <th>3</th>\n",
              "      <td>[[Mid Level Front End Developer (Angular)]]</td>\n",
              "    </tr>\n",
              "    <tr>\n",
              "      <th>4</th>\n",
              "      <td>[[Mid Level IOS Developer]]</td>\n",
              "    </tr>\n",
              "  </tbody>\n",
              "</table>\n",
              "</div>\n",
              "      <button class=\"colab-df-convert\" onclick=\"convertToInteractive('df-42d3b93d-0f4d-4df8-a77a-b9ba156ec7b9')\"\n",
              "              title=\"Convert this dataframe to an interactive table.\"\n",
              "              style=\"display:none;\">\n",
              "        \n",
              "  <svg xmlns=\"http://www.w3.org/2000/svg\" height=\"24px\"viewBox=\"0 0 24 24\"\n",
              "       width=\"24px\">\n",
              "    <path d=\"M0 0h24v24H0V0z\" fill=\"none\"/>\n",
              "    <path d=\"M18.56 5.44l.94 2.06.94-2.06 2.06-.94-2.06-.94-.94-2.06-.94 2.06-2.06.94zm-11 1L8.5 8.5l.94-2.06 2.06-.94-2.06-.94L8.5 2.5l-.94 2.06-2.06.94zm10 10l.94 2.06.94-2.06 2.06-.94-2.06-.94-.94-2.06-.94 2.06-2.06.94z\"/><path d=\"M17.41 7.96l-1.37-1.37c-.4-.4-.92-.59-1.43-.59-.52 0-1.04.2-1.43.59L10.3 9.45l-7.72 7.72c-.78.78-.78 2.05 0 2.83L4 21.41c.39.39.9.59 1.41.59.51 0 1.02-.2 1.41-.59l7.78-7.78 2.81-2.81c.8-.78.8-2.07 0-2.86zM5.41 20L4 18.59l7.72-7.72 1.47 1.35L5.41 20z\"/>\n",
              "  </svg>\n",
              "      </button>\n",
              "      \n",
              "  <style>\n",
              "    .colab-df-container {\n",
              "      display:flex;\n",
              "      flex-wrap:wrap;\n",
              "      gap: 12px;\n",
              "    }\n",
              "\n",
              "    .colab-df-convert {\n",
              "      background-color: #E8F0FE;\n",
              "      border: none;\n",
              "      border-radius: 50%;\n",
              "      cursor: pointer;\n",
              "      display: none;\n",
              "      fill: #1967D2;\n",
              "      height: 32px;\n",
              "      padding: 0 0 0 0;\n",
              "      width: 32px;\n",
              "    }\n",
              "\n",
              "    .colab-df-convert:hover {\n",
              "      background-color: #E2EBFA;\n",
              "      box-shadow: 0px 1px 2px rgba(60, 64, 67, 0.3), 0px 1px 3px 1px rgba(60, 64, 67, 0.15);\n",
              "      fill: #174EA6;\n",
              "    }\n",
              "\n",
              "    [theme=dark] .colab-df-convert {\n",
              "      background-color: #3B4455;\n",
              "      fill: #D2E3FC;\n",
              "    }\n",
              "\n",
              "    [theme=dark] .colab-df-convert:hover {\n",
              "      background-color: #434B5C;\n",
              "      box-shadow: 0px 1px 3px 1px rgba(0, 0, 0, 0.15);\n",
              "      filter: drop-shadow(0px 1px 2px rgba(0, 0, 0, 0.3));\n",
              "      fill: #FFFFFF;\n",
              "    }\n",
              "  </style>\n",
              "\n",
              "      <script>\n",
              "        const buttonEl =\n",
              "          document.querySelector('#df-42d3b93d-0f4d-4df8-a77a-b9ba156ec7b9 button.colab-df-convert');\n",
              "        buttonEl.style.display =\n",
              "          google.colab.kernel.accessAllowed ? 'block' : 'none';\n",
              "\n",
              "        async function convertToInteractive(key) {\n",
              "          const element = document.querySelector('#df-42d3b93d-0f4d-4df8-a77a-b9ba156ec7b9');\n",
              "          const dataTable =\n",
              "            await google.colab.kernel.invokeFunction('convertToInteractive',\n",
              "                                                     [key], {});\n",
              "          if (!dataTable) return;\n",
              "\n",
              "          const docLinkHtml = 'Like what you see? Visit the ' +\n",
              "            '<a target=\"_blank\" href=https://colab.research.google.com/notebooks/data_table.ipynb>data table notebook</a>'\n",
              "            + ' to learn more about interactive tables.';\n",
              "          element.innerHTML = '';\n",
              "          dataTable['output_type'] = 'display_data';\n",
              "          await google.colab.output.renderOutput(dataTable, element);\n",
              "          const docLink = document.createElement('div');\n",
              "          docLink.innerHTML = docLinkHtml;\n",
              "          element.appendChild(docLink);\n",
              "        }\n",
              "      </script>\n",
              "    </div>\n",
              "  </div>\n",
              "  "
            ],
            "text/plain": [
              "                                    job_titles\n",
              "0        [[Mid Frontend Developer (React JS)]]\n",
              "1       [[Mid Level Backend Developer (Java)]]\n",
              "2       [[Mid Level Backend Developer (.NET)]]\n",
              "3  [[Mid Level Front End Developer (Angular)]]\n",
              "4                  [[Mid Level IOS Developer]]"
            ]
          },
          "metadata": {},
          "execution_count": 81
        }
      ]
    }
  ]
}